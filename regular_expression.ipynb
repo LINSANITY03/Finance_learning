{
 "cells": [
  {
   "cell_type": "markdown",
   "metadata": {},
   "source": [
    "# RE"
   ]
  },
  {
   "cell_type": "code",
   "execution_count": 10,
   "metadata": {},
   "outputs": [
    {
     "name": "stdout",
     "output_type": "stream",
     "text": [
      "2014-01-18 13:00:00\n"
     ]
    }
   ],
   "source": [
    "import re\n",
    "\n",
    "series = \"\"\"\n",
    " '01/18/2014 13:00:00', 100, '1st';\n",
    " '01/18/2014 13:30:00', 110, '2nd';\n",
    " '01/18/2014 14:00:00', 120, '3rd'\n",
    " \"\"\"\n",
    "dt = re.compile(\"'[0-9/:\\s]+'\") # datetime\n",
    "result = dt.findall(series)\n",
    "\n",
    "from datetime import datetime\n",
    "pydt = datetime.strptime(result[0].replace(\"'\", \"\"),'%m/%d/%Y %H:%M:%S')\n",
    "print(pydt)"
   ]
  }
 ],
 "metadata": {
  "kernelspec": {
   "display_name": "base",
   "language": "python",
   "name": "python3"
  },
  "language_info": {
   "codemirror_mode": {
    "name": "ipython",
    "version": 3
   },
   "file_extension": ".py",
   "mimetype": "text/x-python",
   "name": "python",
   "nbconvert_exporter": "python",
   "pygments_lexer": "ipython3",
   "version": "3.11.5"
  }
 },
 "nbformat": 4,
 "nbformat_minor": 2
}
