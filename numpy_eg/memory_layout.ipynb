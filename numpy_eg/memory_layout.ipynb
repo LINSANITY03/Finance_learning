{
 "cells": [
  {
   "cell_type": "markdown",
   "metadata": {},
   "source": [
    "# Memory Layout\n",
    "\n",
    "### Note:\n",
    "<span style=\"font-size:0.95em;\">When we working with the large array, storing elements in memory may result into measurable impact.</span>"
   ]
  },
  {
   "cell_type": "code",
   "execution_count": 2,
   "metadata": {},
   "outputs": [
    {
     "data": {
      "text/plain": [
       "array([[[-0.19,  0.32, -0.37, -0.59, -0.27],\n",
       "        [ 0.83,  0.52, -0.11,  0.07, -0.76],\n",
       "        [ 1.37,  0.91, -1.11, -1.7 , -0.48],\n",
       "        ...,\n",
       "        [ 0.16, -0.94,  0.24,  1.31, -0.51],\n",
       "        [ 0.78,  0.98,  1.47, -0.9 , -0.51],\n",
       "        [-2.19, -0.5 , -0.34,  0.9 , -0.08]],\n",
       "\n",
       "       [[ 2.61,  3.64,  2.26,  1.83,  2.46],\n",
       "        [ 4.66,  4.05,  2.79,  3.13,  1.48],\n",
       "        [ 5.75,  4.83,  0.77, -0.41,  2.03],\n",
       "        ...,\n",
       "        [ 3.33,  1.12,  3.48,  5.61,  1.98],\n",
       "        [ 4.56,  4.96,  5.94,  1.19,  1.99],\n",
       "        [-1.39,  1.99,  2.32,  4.8 ,  2.83]]])"
      ]
     },
     "execution_count": 2,
     "metadata": {},
     "output_type": "execute_result"
    }
   ],
   "source": [
    "import numpy as np\n",
    "\n",
    "x = np.random.standard_normal((1000000, 5))\n",
    "x\n",
    "\n",
    "y = 2 * x + 3\n",
    "\n",
    "C = np.array((x, y), order='C') # creating a ndarray with row major\n",
    "F = np.array((x, y), order='F') # creating a ndarray with Fortran or column major\n",
    "\n",
    "x, y = 0.0, 0.0 # memory is freed up( contingent on garbage collection)\n",
    "# which is similar to del x; del y\n",
    "# since the python garbage interpreter is based on reference pointer \n",
    "# it does not matter anyway\n",
    "# after the function is run, it free any local variable inside\n",
    "# but still if the variable has large data on it\n",
    "# by any means do it.\n",
    "C[:2].round(2)"
   ]
  },
  {
   "cell_type": "code",
   "execution_count": 6,
   "metadata": {},
   "outputs": [
    {
     "name": "stdout",
     "output_type": "stream",
     "text": [
      "98.8 ms ± 1.85 ms per loop (mean ± std. dev. of 7 runs, 10 loops each)\n",
      "126 ms ± 6.65 ms per loop (mean ± std. dev. of 7 runs, 10 loops each)\n"
     ]
    }
   ],
   "source": [
    "# some of the operations with its execution time.\n",
    "\n",
    "%timeit C.sum()\n",
    "%timeit F.sum()\n",
    "\n",
    "# summing over rows\n",
    "%timeit C.sum(axis=0)\n",
    "%timeit F.sum(axis=0)\n",
    "\n",
    "# summing over columns\n",
    "%timeit C.sum(axis=1)\n",
    "%timeit F.sum(axis=1)"
   ]
  }
 ],
 "metadata": {
  "kernelspec": {
   "display_name": "base",
   "language": "python",
   "name": "python3"
  },
  "language_info": {
   "codemirror_mode": {
    "name": "ipython",
    "version": 3
   },
   "file_extension": ".py",
   "mimetype": "text/x-python",
   "name": "python",
   "nbconvert_exporter": "python",
   "pygments_lexer": "ipython3",
   "version": "3.11.5"
  }
 },
 "nbformat": 4,
 "nbformat_minor": 2
}
