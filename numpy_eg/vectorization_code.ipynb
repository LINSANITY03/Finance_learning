{
 "cells": [
  {
   "cell_type": "markdown",
   "metadata": {},
   "source": [
    "# Vectorization Of Code\n",
    "\n",
    "**Vectorization** is the strategy to get more compact code that is possibly executed faster.\n",
    "\n",
    "- Apply a function to operate at \"**once**\", instead by looping over.\n",
    "- **map()** and **filter()** provide some basic means for vectorization.\n",
    "- **Numpy** has vectorization built in deep down in its core."
   ]
  },
  {
   "cell_type": "code",
   "execution_count": 13,
   "metadata": {},
   "outputs": [
    {
     "name": "stdout",
     "output_type": "stream",
     "text": [
      "66.9 µs ± 3.18 µs per loop (mean ± std. dev. of 7 runs, 10,000 loops each)\n",
      "216 ns ± 14.4 ns per loop (mean ± std. dev. of 7 runs, 1,000,000 loops each)\n"
     ]
    }
   ],
   "source": [
    "def looping(arg):\n",
    "    sum = 0\n",
    "    for i in range(0, arg):\n",
    "        sum += i\n",
    "\n",
    "%timeit looping(1000)\n",
    "%timeit map(looping, [1000])"
   ]
  },
  {
   "cell_type": "markdown",
   "metadata": {},
   "source": [
    "# Basic vectorization"
   ]
  },
  {
   "cell_type": "code",
   "execution_count": 16,
   "metadata": {},
   "outputs": [
    {
     "data": {
      "text/plain": [
       "array([[ 0. ,  1.5,  3. ],\n",
       "       [ 4.5,  6. ,  7.5],\n",
       "       [ 9. , 10.5, 12. ],\n",
       "       [13.5, 15. , 16.5]])"
      ]
     },
     "execution_count": 16,
     "metadata": {},
     "output_type": "execute_result"
    }
   ],
   "source": [
    "# simple addition sum can be example for a vectorization in numpy\n",
    "\n",
    "import numpy as np\n",
    "\n",
    "np.random.seed(100)\n",
    "r = np.arange(12).reshape((4, 3))\n",
    "s = np.arange(12).reshape((4, 3)) * 0.5\n",
    "\n",
    "r + s # since it is a element-wise addition as a vectorized operation (no looping)"
   ]
  },
  {
   "cell_type": "markdown",
   "metadata": {},
   "source": [
    "# Broadcasting"
   ]
  },
  {
   "cell_type": "code",
   "execution_count": 17,
   "metadata": {},
   "outputs": [
    {
     "data": {
      "text/plain": [
       "array([[ 4,  5,  6],\n",
       "       [ 7,  8,  9],\n",
       "       [10, 11, 12],\n",
       "       [13, 14, 15]])"
      ]
     },
     "execution_count": 17,
     "metadata": {},
     "output_type": "execute_result"
    }
   ],
   "source": [
    "# Numpy also supports what is called Broadcasting.\n",
    "# This allows to combine object within a single operation.\n",
    "\n",
    "r + 4"
   ]
  },
  {
   "cell_type": "markdown",
   "metadata": {},
   "source": [
    "# Custom-defined Python functions"
   ]
  },
  {
   "cell_type": "code",
   "execution_count": 19,
   "metadata": {},
   "outputs": [
    {
     "data": {
      "text/plain": [
       "array([[ 5,  8, 11],\n",
       "       [14, 17, 20],\n",
       "       [23, 26, 29],\n",
       "       [32, 35, 38]])"
      ]
     },
     "execution_count": 19,
     "metadata": {},
     "output_type": "execute_result"
    }
   ],
   "source": [
    "# if the implementation allows, arrays can be used as int or float objects.\n",
    "\n",
    "def f(x):\n",
    "    return 3 * x + 5\n",
    "\n",
    "f(0.5)\n",
    "f(r) # element-wise evaluation and vectorization of the function."
   ]
  },
  {
   "cell_type": "markdown",
   "metadata": {},
   "source": [
    "### Note: By using these kinds of operation, we simply avoid loops on python level \n",
    "###         which is taken care by optimized code, most of it written in C.\n",
    "###         resulting in faster than pure Python explaining the secret."
   ]
  }
 ],
 "metadata": {
  "kernelspec": {
   "display_name": "base",
   "language": "python",
   "name": "python3"
  },
  "language_info": {
   "codemirror_mode": {
    "name": "ipython",
    "version": 3
   },
   "file_extension": ".py",
   "mimetype": "text/x-python",
   "name": "python",
   "nbconvert_exporter": "python",
   "pygments_lexer": "ipython3",
   "version": "3.11.5"
  }
 },
 "nbformat": 4,
 "nbformat_minor": 2
}
