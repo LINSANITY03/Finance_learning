{
 "cells": [
  {
   "cell_type": "markdown",
   "metadata": {},
   "source": [
    "# Structured NumPy Arrays\n",
    "\n",
    "NumPy provides structured ndarray and record recarray objects that allow you to\n",
    "have a different dtype per column.\n",
    "\n",
    "formats: https://numpy.org/doc/stable/reference/arrays.dtypes.html#index-9"
   ]
  },
  {
   "cell_type": "code",
   "execution_count": 8,
   "metadata": {},
   "outputs": [
    {
     "data": {
      "text/plain": [
       "28"
      ]
     },
     "execution_count": 8,
     "metadata": {},
     "output_type": "execute_result"
    }
   ],
   "source": [
    "import numpy as np\n",
    "\n",
    "# first way\n",
    "dt = np.dtype([('Name', 'S10'), ('Age', 'i4'),('Height', 'f'), ('Children/Pets', 'i4', 2)])\n",
    "# (column, data type, sub array of two field)\n",
    "dt\n",
    "\n",
    "# second way\n",
    "dt = np.dtype({'names': ['Name', 'Age', 'Height', 'Children/Pets'],'formats':'O int float int,int'.split()})\n",
    "dt\n",
    "\n",
    "\n",
    "#instantiated with two records\n",
    "\n",
    "s = np.array([('Pujan', 26, 154, (0, 0)), ('Sujata', 28, 155, (0, 0))], dtype=dt)\n",
    "s\n",
    "type(s)\n",
    "\n",
    "# with this you can get close to initializing table\n",
    "# in a SQL table\n",
    "# with columns name and column data types\n",
    "\n",
    "# You can access the element with their names and rows by their index value.\n",
    "s['Name']\n",
    "s[1]['Age']"
   ]
  }
 ],
 "metadata": {
  "kernelspec": {
   "display_name": "base",
   "language": "python",
   "name": "python3"
  },
  "language_info": {
   "codemirror_mode": {
    "name": "ipython",
    "version": 3
   },
   "file_extension": ".py",
   "mimetype": "text/x-python",
   "name": "python",
   "nbconvert_exporter": "python",
   "pygments_lexer": "ipython3",
   "version": "3.11.5"
  }
 },
 "nbformat": 4,
 "nbformat_minor": 2
}
